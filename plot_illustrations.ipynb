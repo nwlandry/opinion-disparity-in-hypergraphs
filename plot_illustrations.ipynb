{
 "cells": [
  {
   "cell_type": "code",
   "execution_count": null,
   "metadata": {},
   "outputs": [],
   "source": [
    "from src import GenerativeModels\n",
    "import matplotlib.pyplot as plt\n",
    "import numpy as np\n",
    "import xgi\n",
    "import json"
   ]
  },
  {
   "cell_type": "code",
   "execution_count": null,
   "metadata": {},
   "outputs": [],
   "source": [
    "def get_position(fname, H):\n",
    "    try:\n",
    "        with open(fname, \"r\") as file:\n",
    "            pos_stored = json.loads(file.read())\n",
    "        pos = {i: np.array(p) for i, p in pos_stored.items()}\n",
    "    except:\n",
    "        pos = xgi.pairwise_spring_layout(H)\n",
    "        pos = transform_pos(pos)\n",
    "        pos_store = {i: p.tolist() for i, p in pos.items()}\n",
    "        datastring = json.dumps(pos_store)\n",
    "\n",
    "        with open(fname, \"w\") as output_file:\n",
    "            output_file.write(datastring)\n",
    "\n",
    "    return pos\n",
    "\n",
    "\n",
    "def transform_pos(pos):\n",
    "    from sklearn.decomposition import PCA\n",
    "\n",
    "    p = np.array(list(pos.values()))\n",
    "\n",
    "    pca = PCA(n_components=2)\n",
    "    pca.fit(p)\n",
    "    t_p = p.dot(np.linalg.inv(pca.components_))\n",
    "    xmin, ymin = np.min(t_p, axis=0)\n",
    "    xmax, ymax = np.max(t_p, axis=0)\n",
    "\n",
    "    # rescale so that its in [-1, 1] x [-1, 1]\n",
    "    x = np.interp(t_p[:, 0], [xmin, xmax], [-1, 1])\n",
    "    y = np.interp(t_p[:, 1], [ymin, ymax], [-1, 1])\n",
    "\n",
    "    return {n: np.array([x[i], y[i]]) for i, n in enumerate(pos.keys())}\n",
    "\n",
    "\n",
    "def get_hypergraph(fname, epsilon):\n",
    "    try:\n",
    "        H = xgi.read_json(fname)\n",
    "    except:\n",
    "        n = 100\n",
    "        m = 3\n",
    "        k = 2\n",
    "\n",
    "        is_connected = False\n",
    "\n",
    "        while not is_connected:\n",
    "            edgelist = GenerativeModels.uniform_planted_partition_hypergraph(\n",
    "                n, m, k, epsilon\n",
    "            )\n",
    "\n",
    "            cleaned_edgelist = list()\n",
    "            for edge in edgelist:\n",
    "                if len(edge) == len(set(edge)):\n",
    "                    cleaned_edgelist.append(edge)\n",
    "\n",
    "            H = xgi.Hypergraph(cleaned_edgelist)\n",
    "            is_connected = xgi.is_connected(H)\n",
    "        xgi.write_json(H, fname)\n",
    "    return H"
   ]
  },
  {
   "cell_type": "code",
   "execution_count": null,
   "metadata": {},
   "outputs": [],
   "source": [
    "H1 = get_hypergraph(\"Data/vis/vis1.json\", 0)\n",
    "H2 = get_hypergraph(\"Data/vis/vis2.json\", 0.75)\n",
    "H3 = get_hypergraph(\"Data/vis/vis3.json\", 0.95)\n",
    "\n",
    "pos1 = get_position(\"Data/vis/pos1.json\", H1)\n",
    "pos2 = get_position(\"Data/vis/pos2.json\", H2)\n",
    "pos3 = get_position(\"Data/vis/pos3.json\", H3)"
   ]
  },
  {
   "cell_type": "code",
   "execution_count": null,
   "metadata": {},
   "outputs": [],
   "source": [
    "plt.figure(figsize=(6, 12))\n",
    "plt.subplot(311)\n",
    "plt.title(r\"$\\epsilon_3 = 0$\", fontsize=14)\n",
    "xgi.draw(H1, pos1, node_size=10)\n",
    "plt.subplot(312)\n",
    "plt.title(r\"$\\epsilon_3 = 0.75$\", fontsize=14)\n",
    "xgi.draw(H2, pos2, node_size=10)\n",
    "plt.subplot(313)\n",
    "plt.title(r\"$\\epsilon_3 = 0.95$\", fontsize=14)\n",
    "xgi.draw(H3, pos3, node_size=10)\n",
    "plt.tight_layout()\n",
    "plt.savefig(\"Figures/Fig1/community_structure_visualization.png\", dpi=1000)\n",
    "plt.savefig(\"Figures/Fig1/community_structure_visualization.pdf\", dpi=1000)\n",
    "plt.show()"
   ]
  },
  {
   "cell_type": "code",
   "execution_count": null,
   "metadata": {},
   "outputs": [],
   "source": [
    "edges = [[0, 1, 2], [1, 2, 3], [3, 4, 5], [5, 6, 7], [6, 7, 4]]\n",
    "pos = {0: [65, 295], 1: [85, 35], 2: [222, 120], 3: [202, 260], 4: [620, 340], 5: [585, 210], 6: [640, 75], 7: [805, 165]}\n",
    "H = xgi.Hypergraph(edges)\n",
    "colors1 = {0: \"white\", 1: \"black\", 2: \"white\", 3: \"black\", 4: \"black\", 5: \"white\", 6: \"black\", 7: \"white\"}\n",
    "colors2 = {0: \"black\", 1: \"black\", 2: \"black\", 3: \"black\", 4: \"white\", 5: \"white\", 6: \"white\", 7: \"white\"}"
   ]
  },
  {
   "cell_type": "code",
   "execution_count": null,
   "metadata": {},
   "outputs": [],
   "source": [
    "plt.figure()\n",
    "plt.subplot(211)\n",
    "xgi.draw(H, pos, node_fc=colors1, node_size=20, node_lw=1.5)\n",
    "plt.subplot(212)\n",
    "xgi.draw(H, pos, node_fc=colors2, node_size=20, node_lw=1.5)\n",
    "plt.tight_layout()\n",
    "plt.savefig(\"Figures/Fig2/psi.svg\", dpi=1000)\n",
    "plt.savefig(\"Figures/Fig2/psi.pdf\", dpi=1000)\n",
    "plt.savefig(\"Figures/Fig2/psi.png\", dpi=1000)"
   ]
  },
  {
   "cell_type": "code",
   "execution_count": null,
   "metadata": {},
   "outputs": [],
   "source": []
  }
 ],
 "metadata": {
  "kernelspec": {
   "display_name": "Python 3",
   "language": "python",
   "name": "python3"
  },
  "language_info": {
   "codemirror_mode": {
    "name": "ipython",
    "version": 3
   },
   "file_extension": ".py",
   "mimetype": "text/x-python",
   "name": "python",
   "nbconvert_exporter": "python",
   "pygments_lexer": "ipython3",
   "version": "3.11.1"
  },
  "vscode": {
   "interpreter": {
    "hash": "aee8b7b246df8f9039afb4144a1f6fd8d2ca17a180786b69acc140d282b71a49"
   }
  }
 },
 "nbformat": 4,
 "nbformat_minor": 2
}
