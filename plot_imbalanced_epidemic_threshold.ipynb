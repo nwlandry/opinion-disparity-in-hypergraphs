{
 "cells": [
  {
   "cell_type": "code",
   "execution_count": null,
   "metadata": {},
   "outputs": [],
   "source": [
    "import matplotlib.pyplot as plt\n",
    "import numpy as np"
   ]
  },
  {
   "cell_type": "code",
   "execution_count": null,
   "metadata": {},
   "outputs": [],
   "source": [
    "def a(rho):\n",
    "    return 1 - 2*rho + 2*rho**2\n",
    "\n",
    "def b(rho):\n",
    "    return rho*(rho - 1)\n",
    "\n",
    "def c(rho):\n",
    "    return 3*rho**4 - 6*rho**3 + 4*rho**2 - rho"
   ]
  },
  {
   "cell_type": "code",
   "execution_count": null,
   "metadata": {},
   "outputs": [],
   "source": [
    "def epidemic_threshold_equal_degree(k, epsilon2, rho):\n",
    "    return 1/(k*(epsilon2 + (1 - epsilon2)*(np.sqrt(-b(rho)) + a(rho))))\n",
    "\n",
    "def epidemic_threshold_equal_probability(rho, k, epsilon2):\n",
    "    return 2/(k*(1 + (1.0/a(rho) - 1)*epsilon2 + np.sqrt(1 + 4*b(rho)/a(rho)*epsilon2 - 4*c(rho)/a(rho)**2*epsilon2**2)))"
   ]
  },
  {
   "cell_type": "code",
   "execution_count": null,
   "metadata": {},
   "outputs": [],
   "source": [
    "k = 10\n",
    "rho = np.linspace(0, 1, 101)\n",
    "epsilon2 = [0.0, 0.25, 0.5, 0.75, 1.0]\n",
    "colormap = plt.cm.Blues\n",
    "cmap = lambda x: colormap(np.interp(x, epsilon2, np.linspace(0.3, 1, len(epsilon2))))"
   ]
  },
  {
   "cell_type": "code",
   "execution_count": null,
   "metadata": {},
   "outputs": [],
   "source": [
    "plt.figure()\n",
    "for e2 in epsilon2:\n",
    "    beta2c_1 = epidemic_threshold_equal_degree(k, e2, rho)\n",
    "    plt.plot(rho, beta2c_1, color=cmap(e2), label=r\"$\\epsilon_2 = $\" + str(e2))\n",
    "plt.legend(loc=\"lower right\")\n",
    "plt.xlim([0, 1])\n",
    "plt.ylim([0.08, 0.101])\n",
    "plt.xticks([0.0, 0.2, 0.4, 0.6, 0.8, 1.0])\n",
    "plt.yticks([0.08, 0.09, 0.1])\n",
    "plt.xlabel(r\"$\\rho$\", fontsize=14)\n",
    "plt.ylabel(r\"$\\beta_2^c$\", fontsize=14)\n",
    "plt.tight_layout()\n",
    "plt.show()"
   ]
  },
  {
   "cell_type": "code",
   "execution_count": null,
   "metadata": {},
   "outputs": [],
   "source": [
    "\n",
    "plt.figure()\n",
    "for e2 in epsilon2:\n",
    "    beta2c_2 = epidemic_threshold_equal_probability(rho, k, e2)\n",
    "    plt.plot(rho, beta2c_2, color=cmap(e2), label=r\"$\\epsilon_2 = $\" + str(e2))\n",
    "plt.xlim([0, 1])\n",
    "plt.ylim([0.08, 0.101])\n",
    "plt.xticks([0.0, 0.2, 0.4, 0.6, 0.8, 1.0])\n",
    "plt.yticks([0.08, 0.09, 0.1])\n",
    "plt.legend(loc=\"lower right\")\n",
    "plt.xlabel(r\"$\\rho$\", fontsize=14)\n",
    "plt.ylabel(r\"$\\beta_2^c$\", fontsize=14)\n",
    "plt.tight_layout()\n",
    "plt.savefig(\"Figures/beta2c_vs_rho_equal_probability.png\", dpi=1000)\n",
    "plt.savefig(\"Figures/beta2c_vs_rho_equal_probability.pdf\", dpi=1000)\n",
    "plt.show()"
   ]
  },
  {
   "cell_type": "code",
   "execution_count": null,
   "metadata": {},
   "outputs": [],
   "source": []
  }
 ],
 "metadata": {
  "kernelspec": {
   "display_name": "Julia 1.6.3",
   "language": "julia",
   "name": "julia-1.6"
  },
  "language_info": {
   "file_extension": ".jl",
   "mimetype": "application/julia",
   "name": "julia",
   "version": "1.6.3"
  },
  "orig_nbformat": 4,
  "vscode": {
   "interpreter": {
    "hash": "f26b1876c6a04c29872dd3ce209a466baa9f1e070d2c1693089dc9a73c6b3bca"
   }
  }
 },
 "nbformat": 4,
 "nbformat_minor": 2
}
