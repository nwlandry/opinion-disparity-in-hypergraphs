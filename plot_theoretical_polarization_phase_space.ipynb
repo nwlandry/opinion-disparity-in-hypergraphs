{
 "cells": [
  {
   "cell_type": "code",
   "execution_count": null,
   "metadata": {},
   "outputs": [],
   "source": [
    "import json\n",
    "import numpy as np\n",
    "import matplotlib.pyplot as plt"
   ]
  },
  {
   "cell_type": "code",
   "execution_count": null,
   "metadata": {},
   "outputs": [],
   "source": [
    "with open(\"Data/stability/theoretical_homogeneous_polarization.json\") as file:\n",
    "    data = json.load(file)"
   ]
  },
  {
   "cell_type": "code",
   "execution_count": null,
   "metadata": {},
   "outputs": [],
   "source": [
    "epsilon2 = np.array(data[\"epsilon2\"], dtype=float)\n",
    "epsilon3 = np.array(data[\"epsilon3\"], dtype=float)\n",
    "psi = np.array(data[\"psi\"], dtype=float)"
   ]
  },
  {
   "cell_type": "code",
   "execution_count": null,
   "metadata": {},
   "outputs": [],
   "source": [
    "plt.figure(figsize=(8, 6))\n",
    "im = plt.imshow(np.flipud(psi), extent=[min(epsilon2), max(epsilon2), min(epsilon3), max(epsilon3)], vmin=0, vmax=1, aspect=\"auto\", cmap=\"inferno\")\n",
    "plt.xlabel(r\"$\\widetilde{\\epsilon}_2$\", fontsize=36)\n",
    "plt.ylabel(r\"$\\widetilde{\\epsilon}_3$\", fontsize=36)\n",
    "plt.xticks([0, 0.5, 1], fontsize=24)\n",
    "plt.yticks([0.8, 0.9, 1], fontsize=24)\n",
    "cbar = plt.colorbar(im)\n",
    "cbar.ax.tick_params(labelsize=18)\n",
    "cbar.set_label(r\"$\\psi$\", fontsize=36, rotation=270, labelpad=40)\n",
    "# cbar.set_label(\"polarization\", fontsize=36, rotation=270, labelpad=40)\n",
    "\n",
    "plt.tight_layout()\n",
    "plt.savefig(\"Figures/psi_plot.png\", dpi=1000)\n",
    "plt.savefig(\"Figures/psi_plot.pdf\", dpi=1000)\n",
    "# plt.savefig(\"Figures/polarization_plot.png\", dpi=1000)\n",
    "# plt.savefig(\"Figures/polarization_plot.pdf\", dpi=1000)\n",
    "plt.show()"
   ]
  }
 ],
 "metadata": {
  "kernelspec": {
   "display_name": "Python 3.10.5 64-bit",
   "language": "python",
   "name": "python3"
  },
  "language_info": {
   "codemirror_mode": {
    "name": "ipython",
    "version": 3
   },
   "file_extension": ".py",
   "mimetype": "text/x-python",
   "name": "python",
   "nbconvert_exporter": "python",
   "pygments_lexer": "ipython3",
   "version": "3.10.5"
  },
  "orig_nbformat": 4,
  "vscode": {
   "interpreter": {
    "hash": "88880b30d22c3e82d444bc5a40c679bbf2837a658927a3eed0b1fab0c002b813"
   }
  }
 },
 "nbformat": 4,
 "nbformat_minor": 2
}
