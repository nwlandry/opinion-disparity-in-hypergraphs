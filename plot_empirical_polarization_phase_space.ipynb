{
 "cells": [
  {
   "cell_type": "code",
   "execution_count": null,
   "metadata": {},
   "outputs": [],
   "source": [
    "import matplotlib.pyplot as plt\n",
    "import numpy as np\n",
    "import json\n",
    "\n",
    "input_filename = \"Data/stability/empirical_polarization.json\"\n",
    "\n",
    "with open(input_filename) as file:\n",
    "        data = json.loads(file.read())\n",
    "\n",
    "epsilon2 = np.array(data[\"epsilon2\"], dtype=float)\n",
    "epsilon3 = np.array(data[\"epsilon3\"], dtype=float)\n",
    "psi = np.array(data[\"psi\"], dtype=float)\n"
   ]
  },
  {
   "cell_type": "code",
   "execution_count": null,
   "metadata": {},
   "outputs": [],
   "source": [
    "\n",
    "plt.figure(figsize=(8, 6))\n",
    "im = plt.imshow(np.flipud(psi.T), extent=[0, 1, 0.8, 1], vmin=0, vmax=1, aspect=\"auto\", cmap=\"inferno\")\n",
    "plt.xlabel(r\"$\\epsilon_2$\", fontsize=36)\n",
    "plt.ylabel(r\"$\\epsilon_3$\", fontsize=36)\n",
    "plt.xticks([0, 0.5, 1], fontsize=24)\n",
    "plt.yticks([0.8, 0.9, 1], fontsize=24)\n",
    "cbar = plt.colorbar(im)\n",
    "cbar.ax.tick_params(labelsize=18)\n",
    "cbar.set_label(r\"$\\psi$\", fontsize=36, rotation=270, labelpad=40)\n",
    "# cbar.set_label(\"polarization\", fontsize=36, rotation=270, labelpad=40)\n",
    "\n",
    "plt.tight_layout()\n",
    "plt.savefig(\"Figures/empirical_psi_plot.png\", dpi=1000)\n",
    "plt.savefig(\"Figures/empirical_psi_plot.pdf\", dpi=1000)\n",
    "# plt.savefig(\"Figures/empirical_polarization_plot.png\", dpi=1000)\n",
    "# plt.savefig(\"Figures/empirical_polarization_plot.pdf\", dpi=1000)\n",
    "plt.show()"
   ]
  },
  {
   "cell_type": "code",
   "execution_count": null,
   "metadata": {},
   "outputs": [],
   "source": []
  }
 ],
 "metadata": {
  "kernelspec": {
   "display_name": "Python 3.10.4 ('hyper')",
   "language": "python",
   "name": "python3"
  },
  "language_info": {
   "codemirror_mode": {
    "name": "ipython",
    "version": 3
   },
   "file_extension": ".py",
   "mimetype": "text/x-python",
   "name": "python",
   "nbconvert_exporter": "python",
   "pygments_lexer": "ipython3",
   "version": "3.10.4"
  },
  "orig_nbformat": 4,
  "vscode": {
   "interpreter": {
    "hash": "f26b1876c6a04c29872dd3ce209a466baa9f1e070d2c1693089dc9a73c6b3bca"
   }
  }
 },
 "nbformat": 4,
 "nbformat_minor": 2
}
