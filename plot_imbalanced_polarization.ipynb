{
 "cells": [
  {
   "cell_type": "code",
   "execution_count": 2,
   "metadata": {},
   "outputs": [],
   "source": [
    "import json\n",
    "import numpy as np\n",
    "import matplotlib.pyplot as plt"
   ]
  },
  {
   "cell_type": "code",
   "execution_count": 3,
   "metadata": {},
   "outputs": [],
   "source": [
    "tick_label_fontsize = 12\n",
    "axis_label_fontsize = 12"
   ]
  },
  {
   "cell_type": "code",
   "execution_count": 4,
   "metadata": {},
   "outputs": [],
   "source": [
    "with open(\"Data/polarization/mean-field_rho_epsilon2_polarization.json\") as file:\n",
    "    data = json.load(file)"
   ]
  },
  {
   "cell_type": "code",
   "execution_count": null,
   "metadata": {},
   "outputs": [],
   "source": [
    "rho = np.array(data[\"rho\"], dtype=float)\n",
    "epsilon2 = np.array(data[\"epsilon2\"], dtype=float)\n",
    "psi1 = np.array(data[\"psi1\"], dtype=float)\n",
    "psi2 = np.array(data[\"psi2\"], dtype=float)"
   ]
  },
  {
   "cell_type": "code",
   "execution_count": null,
   "metadata": {},
   "outputs": [],
   "source": [
    "xsec_index1 = 50\n",
    "xsec_index2 = 18\n",
    "rho1 = 0.506\n",
    "rho2 = 0.515\n",
    "\n",
    "print(epsilon2[xsec_index1])\n",
    "print(epsilon2[xsec_index2])\n",
    "\n",
    "\n",
    "plt.figure(figsize=(8, 3))\n",
    "# plt.subplot(211)\n",
    "im = plt.imshow(\n",
    "    np.flipud(psi1 - psi2),\n",
    "    extent=[min(rho), max(rho), min(epsilon2), max(epsilon2)],\n",
    "    aspect=\"auto\",\n",
    "    cmap=\"inferno\",\n",
    ")\n",
    "plt.plot([0.5, 0.5], [min(epsilon2), max(epsilon2)], \"k--\")\n",
    "plt.plot([min(rho), max(rho)], [epsilon2[xsec_index1], epsilon2[xsec_index1]], \"w-\")\n",
    "plt.plot(\n",
    "    [min(rho), max(rho)],\n",
    "    [epsilon2[xsec_index2], epsilon2[xsec_index2]],\n",
    "    \"-\",\n",
    "    color=\"teal\",\n",
    ")\n",
    "plt.scatter(rho1, epsilon2[xsec_index1], color=\"white\", s=100, marker=\"*\", zorder=2)\n",
    "plt.scatter(rho2, epsilon2[xsec_index1], color=\"white\", s=100, marker=\"*\", zorder=2)\n",
    "plt.scatter(rho1, epsilon2[xsec_index2], color=\"teal\", s=100, marker=\"*\", zorder=2)\n",
    "plt.scatter(rho2, epsilon2[xsec_index2], color=\"teal\", s=100, marker=\"*\", zorder=2)\n",
    "\n",
    "plt.xlabel(r\"$\\rho$\", fontsize=16)\n",
    "plt.ylabel(r\"$\\epsilon_2$\", fontsize=16)\n",
    "\n",
    "cbar = plt.colorbar(im)\n",
    "cbar.ax.tick_params(labelsize=12)\n",
    "cbar.set_label(r\"$\\psi_1 - \\psi_2$\", fontsize=16, rotation=270, labelpad=20)\n",
    "\n",
    "plt.tight_layout()\n",
    "plt.savefig(\"Figures/Fig7/mean-field_rho_epsilon2_psi.png\", dpi=1000)\n",
    "plt.savefig(\"Figures/Fig7/mean-field_rho_epsilon2_psi.pdf\", dpi=1000)\n",
    "plt.show()"
   ]
  },
  {
   "cell_type": "code",
   "execution_count": null,
   "metadata": {},
   "outputs": [],
   "source": [
    "plt.figure(figsize=(8, 3))\n",
    "plt.plot(rho, psi1[xsec_index1, :], label=r\"$\\psi_1$\")\n",
    "plt.plot(rho, psi2[xsec_index1, :], label=r\"$\\psi_2$\")\n",
    "plt.plot([0.5, 0.5], [0, 0.6], \"k--\")\n",
    "plt.xlim([min(rho), max(rho)])\n",
    "plt.ylim([0, 0.6])\n",
    "plt.xticks([0.48, 0.49, 0.5, 0.51, 0.52], fontsize=18)\n",
    "plt.yticks([0.0, 0.3, 0.6], fontsize=18)\n",
    "plt.legend(fontsize=18)\n",
    "plt.tight_layout()\n",
    "plt.savefig(\"Figures/Fig7/mean-field_rho_epsilon2_cross_section1.png\", dpi=1000)\n",
    "plt.savefig(\"Figures/Fig7/mean-field_rho_epsilon2_cross_section1.pdf\", dpi=1000)\n",
    "plt.show()"
   ]
  },
  {
   "cell_type": "code",
   "execution_count": null,
   "metadata": {},
   "outputs": [],
   "source": [
    "plt.figure(figsize=(8, 3))\n",
    "plt.plot(rho, psi1[xsec_index2, :], label=r\"$\\psi_1$\")\n",
    "plt.plot(rho, psi2[xsec_index2, :], label=r\"$\\psi_2$\")\n",
    "plt.plot([0.5, 0.5], [0, 0.6], \"k--\")\n",
    "plt.xlim([min(rho), max(rho)])\n",
    "plt.ylim([0, 0.6])\n",
    "plt.xticks([0.48, 0.49, 0.5, 0.51, 0.52], fontsize=18)\n",
    "plt.yticks([0.0, 0.3, 0.6], fontsize=18)\n",
    "plt.legend(fontsize=18)\n",
    "plt.tight_layout()\n",
    "plt.savefig(\"Figures/Fig7/mean-field_rho_epsilon2_cross_section2.png\", dpi=1000)\n",
    "plt.savefig(\"Figures/Fig7/mean-field_rho_epsilon2_cross_section2.pdf\", dpi=1000)\n",
    "plt.show()"
   ]
  }
 ],
 "metadata": {
  "kernelspec": {
   "display_name": "hyper",
   "language": "python",
   "name": "python3"
  },
  "language_info": {
   "codemirror_mode": {
    "name": "ipython",
    "version": 3
   },
   "file_extension": ".py",
   "mimetype": "text/x-python",
   "name": "python",
   "nbconvert_exporter": "python",
   "pygments_lexer": "ipython3",
   "version": "3.10.0"
  },
  "orig_nbformat": 4,
  "vscode": {
   "interpreter": {
    "hash": "006b130b0afef3e20a59d32b3e368dadb49787729b49e0c4fc1ec3e01c886557"
   }
  }
 },
 "nbformat": 4,
 "nbformat_minor": 2
}
