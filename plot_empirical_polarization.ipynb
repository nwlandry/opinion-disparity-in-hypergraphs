{
 "cells": [
  {
   "cell_type": "code",
   "execution_count": null,
   "metadata": {},
   "outputs": [],
   "source": [
    "import json\n",
    "import numpy as np\n",
    "import matplotlib.pyplot as plt"
   ]
  },
  {
   "cell_type": "code",
   "execution_count": null,
   "metadata": {},
   "outputs": [],
   "source": [
    "with open(\"Data/stability/empirical_epsilon2_epsilon3_polarization.json\") as file:\n",
    "    data1 = json.load(file)\n",
    "with open(\"Data/stability/empirical_beta2_beta3_polarization.json\") as file:\n",
    "    data2 = json.load(file)\n",
    "with open(\"Data/stability/empirical_epsilon2_epsilon3_max_polarization.json\") as file:\n",
    "    data3 = json.load(file)"
   ]
  },
  {
   "cell_type": "code",
   "execution_count": null,
   "metadata": {},
   "outputs": [],
   "source": [
    "epsilon2 = np.array(data1[\"epsilon2\"], dtype=float)\n",
    "epsilon3 = np.array(data1[\"epsilon3\"], dtype=float)\n",
    "psi = np.array(data1[\"psi\"], dtype=float)"
   ]
  },
  {
   "cell_type": "code",
   "execution_count": null,
   "metadata": {},
   "outputs": [],
   "source": [
    "plt.figure(figsize=(6.5, 6))\n",
    "im = plt.imshow(np.flipud(psi.T), extent=[min(epsilon2), max(epsilon2), min(epsilon3), max(epsilon3)], vmin=0, vmax=1, aspect=\"auto\", cmap=\"inferno\")\n",
    "plt.xlabel(r\"$\\epsilon_2$\", fontsize=36)\n",
    "plt.ylabel(r\"$\\epsilon_3$\", fontsize=36)\n",
    "plt.xticks([0, 0.5, 1], fontsize=24)\n",
    "plt.yticks([0.8, 0.9, 1], fontsize=24)\n",
    "ax = plt.gca()\n",
    "ax.set_xticklabels([\"0\", \"0.5\", \"1\"])\n",
    "# cbar = plt.colorbar(im)\n",
    "# cbar.ax.tick_params(labelsize=18)\n",
    "# cbar.set_label(r\"$\\psi$\", fontsize=36, rotation=270, labelpad=40)\n",
    "\n",
    "plt.tight_layout()\n",
    "plt.savefig(\"Figures/Fig3/empirical_epsilon2_epsilon3_psi.png\", dpi=1000)\n",
    "plt.savefig(\"Figures/Fig3/empirical_epsilon2_epsilon3_psi.pdf\", dpi=1000)\n",
    "plt.show()"
   ]
  },
  {
   "cell_type": "code",
   "execution_count": null,
   "metadata": {},
   "outputs": [],
   "source": [
    "beta2 = np.array(data2[\"beta2\"], dtype=float)\n",
    "beta3 = np.array(data2[\"beta3\"], dtype=float)\n",
    "psi = np.array(data2[\"psi\"], dtype=float)"
   ]
  },
  {
   "cell_type": "code",
   "execution_count": null,
   "metadata": {},
   "outputs": [],
   "source": [
    "plt.figure(figsize=(6.5, 6))\n",
    "im = plt.imshow(np.flipud(psi.T), extent=[min(beta2), max(beta2), min(beta3), max(beta3)], vmin=0, vmax=1, aspect=\"auto\", cmap=\"inferno\")\n",
    "plt.xlabel(r\"$\\widetilde{\\beta}_2$\", fontsize=36)\n",
    "plt.ylabel(r\"$\\widetilde{\\beta}_3$\", fontsize=36)\n",
    "plt.xticks([0, 0.25, 0.5], fontsize=24)\n",
    "plt.yticks([3, 4, 5, 6], fontsize=24)\n",
    "ax = plt.gca()\n",
    "ax.set_xticklabels([\"0\", \"0.25\", \"0.5\"])\n",
    "# cbar = plt.colorbar(im)\n",
    "# cbar.ax.tick_params(labelsize=18)\n",
    "# cbar.set_label(r\"$\\psi$\", fontsize=36, rotation=270, labelpad=40)\n",
    "\n",
    "plt.tight_layout()\n",
    "plt.savefig(\"Figures/Fig3/empirical_beta2_beta3_psi.png\", dpi=1000)\n",
    "plt.savefig(\"Figures/Fig3/empirical_beta2_beta3_psi.pdf\", dpi=1000)\n",
    "plt.show()"
   ]
  },
  {
   "cell_type": "code",
   "execution_count": null,
   "metadata": {},
   "outputs": [],
   "source": [
    "epsilon2 = np.array(data3[\"epsilon2\"], dtype=float)\n",
    "epsilon3 = np.array(data3[\"epsilon3\"], dtype=float)\n",
    "psi = np.array(data3[\"psi\"], dtype=float)"
   ]
  },
  {
   "cell_type": "code",
   "execution_count": null,
   "metadata": {},
   "outputs": [],
   "source": [
    "plt.figure(figsize=(8, 6))\n",
    "im = plt.imshow(np.flipud(psi.T), extent=[min(epsilon2), max(epsilon2), min(epsilon3), max(epsilon3)], vmin=0, vmax=1, aspect=\"auto\", cmap=\"inferno\")\n",
    "plt.xlabel(r\"$\\epsilon_2$\", fontsize=36)\n",
    "plt.ylabel(r\"$\\epsilon_3$\", fontsize=36)\n",
    "plt.xticks([0, 0.5, 1], fontsize=24)\n",
    "plt.yticks([0.8, 0.9, 1], fontsize=24)\n",
    "cbar = plt.colorbar(im)\n",
    "cbar.ax.tick_params(labelsize=18)\n",
    "cbar.set_label(r\"$\\psi$\", fontsize=36, rotation=270, labelpad=40)\n",
    "\n",
    "plt.tight_layout()\n",
    "plt.savefig(\"Extra/Figures/empirical_epsilon2_epsilon3_psi_max.png\", dpi=1000)\n",
    "plt.savefig(\"Extra/Figures/empirical_epsilon2_epsilon3_psi_max.pdf\", dpi=1000)\n",
    "plt.show()"
   ]
  },
  {
   "cell_type": "code",
   "execution_count": null,
   "metadata": {},
   "outputs": [],
   "source": []
  }
 ],
 "metadata": {
  "kernelspec": {
   "display_name": "Python 3.9.6 64-bit",
   "language": "python",
   "name": "python3"
  },
  "language_info": {
   "codemirror_mode": {
    "name": "ipython",
    "version": 3
   },
   "file_extension": ".py",
   "mimetype": "text/x-python",
   "name": "python",
   "nbconvert_exporter": "python",
   "pygments_lexer": "ipython3",
   "version": "3.9.6"
  },
  "orig_nbformat": 4,
  "vscode": {
   "interpreter": {
    "hash": "31f2aee4e71d21fbe5cf8b01ff0e069b9275f58929596ceb00d14d90e3e16cd6"
   }
  }
 },
 "nbformat": 4,
 "nbformat_minor": 2
}
