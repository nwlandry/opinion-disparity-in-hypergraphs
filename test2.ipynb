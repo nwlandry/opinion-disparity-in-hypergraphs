{
 "cells": [
  {
   "cell_type": "code",
   "execution_count": 2,
   "metadata": {},
   "outputs": [],
   "source": [
    "import json\n",
    "import numpy as np"
   ]
  },
  {
   "cell_type": "code",
   "execution_count": 3,
   "metadata": {},
   "outputs": [
    {
     "ename": "NameError",
     "evalue": "name 'n' is not defined",
     "output_type": "error",
     "traceback": [
      "\u001b[1;31m---------------------------------------------------------------------------\u001b[0m",
      "\u001b[1;31mNameError\u001b[0m                                 Traceback (most recent call last)",
      "\u001b[1;32mc:\\Users\\nicho\\Documents\\GitHub\\polarizability-in-hypergraphs\\test2.ipynb Cell 2\u001b[0m in \u001b[0;36m<cell line: 5>\u001b[1;34m()\u001b[0m\n\u001b[0;32m      <a href='vscode-notebook-cell:/c%3A/Users/nicho/Documents/GitHub/polarizability-in-hypergraphs/test2.ipynb#W0sZmlsZQ%3D%3D?line=1'>2</a>\u001b[0m     data \u001b[39m=\u001b[39m json\u001b[39m.\u001b[39mload(file)\n\u001b[0;32m      <a href='vscode-notebook-cell:/c%3A/Users/nicho/Documents/GitHub/polarizability-in-hypergraphs/test2.ipynb#W0sZmlsZQ%3D%3D?line=3'>4</a>\u001b[0m psi \u001b[39m=\u001b[39m data[\u001b[39m\"\u001b[39m\u001b[39mpsi\u001b[39m\u001b[39m\"\u001b[39m]\n\u001b[1;32m----> <a href='vscode-notebook-cell:/c%3A/Users/nicho/Documents/GitHub/polarizability-in-hypergraphs/test2.ipynb#W0sZmlsZQ%3D%3D?line=4'>5</a>\u001b[0m beta2tilde \u001b[39m=\u001b[39m np\u001b[39m.\u001b[39mround(np\u001b[39m.\u001b[39mlinspace(\u001b[39m0\u001b[39m, \u001b[39m0.5\u001b[39m, n), decimals\u001b[39m=\u001b[39m\u001b[39m3\u001b[39m)\n\u001b[0;32m      <a href='vscode-notebook-cell:/c%3A/Users/nicho/Documents/GitHub/polarizability-in-hypergraphs/test2.ipynb#W0sZmlsZQ%3D%3D?line=5'>6</a>\u001b[0m beta3tilde \u001b[39m=\u001b[39m np\u001b[39m.\u001b[39mround(np\u001b[39m.\u001b[39mlinspace(\u001b[39m3\u001b[39m, \u001b[39m6\u001b[39m, m), decimals\u001b[39m=\u001b[39m\u001b[39m3\u001b[39m)\n\u001b[0;32m      <a href='vscode-notebook-cell:/c%3A/Users/nicho/Documents/GitHub/polarizability-in-hypergraphs/test2.ipynb#W0sZmlsZQ%3D%3D?line=6'>7</a>\u001b[0m gamma \u001b[39m=\u001b[39m \u001b[39m1\u001b[39m\n",
      "\u001b[1;31mNameError\u001b[0m: name 'n' is not defined"
     ]
    }
   ],
   "source": [
    "with open(\"Data/stability/empirical_beta2_beta3_polarization.json\") as file:\n",
    "    data = json.load(file)\n",
    "\n",
    "n = 41\n",
    "m = 41\n",
    "psi = data[\"psi\"]\n",
    "beta2tilde = np.round(np.linspace(0, 0.5, n), decimals=3)\n",
    "beta3tilde = np.round(np.linspace(3, 6, m), decimals=3)\n",
    "gamma = 1\n",
    "epsilon2 = 0.5\n",
    "epsilon3 = 0.95\n",
    "\n",
    "data = dict()"
   ]
  },
  {
   "cell_type": "code",
   "execution_count": null,
   "metadata": {},
   "outputs": [],
   "source": []
  }
 ],
 "metadata": {
  "kernelspec": {
   "display_name": "Python 3.10.5 64-bit",
   "language": "python",
   "name": "python3"
  },
  "language_info": {
   "codemirror_mode": {
    "name": "ipython",
    "version": 3
   },
   "file_extension": ".py",
   "mimetype": "text/x-python",
   "name": "python",
   "nbconvert_exporter": "python",
   "pygments_lexer": "ipython3",
   "version": "3.10.5"
  },
  "orig_nbformat": 4,
  "vscode": {
   "interpreter": {
    "hash": "88880b30d22c3e82d444bc5a40c679bbf2837a658927a3eed0b1fab0c002b813"
   }
  }
 },
 "nbformat": 4,
 "nbformat_minor": 2
}
