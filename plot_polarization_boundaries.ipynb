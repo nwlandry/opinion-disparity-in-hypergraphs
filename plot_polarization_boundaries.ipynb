{
 "cells": [
  {
   "cell_type": "code",
   "execution_count": null,
   "metadata": {},
   "outputs": [],
   "source": [
    "import json\n",
    "import numpy as np\n",
    "import matplotlib.pyplot as plt\n",
    "from skimage import filters"
   ]
  },
  {
   "cell_type": "code",
   "execution_count": null,
   "metadata": {},
   "outputs": [],
   "source": [
    "with open(\"Data/stability/mean-field_polarization_boundaries_epsilon2.json\") as file:\n",
    "    data = json.load(file)\n",
    "\n",
    "epsilon2 = np.array(data[\"epsilon2\"], dtype=float)\n",
    "epsilon3 = np.array(data[\"epsilon3\"], dtype=float)\n",
    "beta2 = np.array(data[\"beta2\"], dtype=float)\n",
    "beta3 = np.array(data[\"beta3\"], dtype=float)\n",
    "\n",
    "image = np.zeros((len(beta3), len(beta2)))\n",
    "for e2 in epsilon2:\n",
    "    psi = data[f\"psi-{e2}\"]\n",
    "    region_boundaries = filters.roberts(np.flipud(psi))\n",
    "    region_boundaries[region_boundaries > 0.1] = (e2 - min(epsilon2)) / (\n",
    "        max(epsilon2) - min(epsilon2)\n",
    "    ) + 0.15\n",
    "    region_boundaries[region_boundaries < 0.1] = 0\n",
    "    image += region_boundaries"
   ]
  },
  {
   "cell_type": "code",
   "execution_count": null,
   "metadata": {},
   "outputs": [],
   "source": [
    "plt.figure()\n",
    "plt.imshow(\n",
    "    image,\n",
    "    cmap=\"Blues\",\n",
    "    vmin=0,\n",
    "    vmax=1,\n",
    "    extent=(min(beta2), max(beta2), min(beta3), max(beta3)),\n",
    "    aspect=\"auto\",\n",
    ")\n",
    "plt.text(0.095, 5.6, \"0.0\", rotation=-80)\n",
    "plt.text(0.125, 5.22, \"0.9625\", rotation=-75)\n",
    "plt.text(0.17, 5.35, \"0.975\", rotation=-75)\n",
    "plt.text(0.27, 5.2, \"0.9875\", rotation=-73)\n",
    "plt.text(0.975, 5.6, r\"$1.0$\", rotation=-90)\n",
    "plt.xlabel(r\"$\\widetilde{\\beta}_2$\", fontsize=14)\n",
    "plt.ylabel(r\"$\\widetilde{\\beta}_3$\", fontsize=14)\n",
    "plt.savefig(\"Figures/Fig4/polarization_boundaries_epsilon2.png\", dpi=1000)\n",
    "plt.savefig(\"Figures/Fig4/polarization_boundaries_epsilon2.pdf\", dpi=1000)\n",
    "plt.show()"
   ]
  },
  {
   "cell_type": "code",
   "execution_count": null,
   "metadata": {},
   "outputs": [],
   "source": [
    "with open(\"Data/stability/mean-field_polarization_boundaries_epsilon3.json\") as file:\n",
    "    data = json.load(file)\n",
    "\n",
    "epsilon2 = np.array(data[\"epsilon2\"], dtype=float)\n",
    "epsilon3 = np.array(data[\"epsilon3\"], dtype=float)\n",
    "beta2 = np.array(data[\"beta2\"], dtype=float)\n",
    "beta3 = np.array(data[\"beta3\"], dtype=float)\n",
    "\n",
    "image = np.zeros((len(beta3), len(beta2)))\n",
    "for e3 in epsilon3:\n",
    "    psi = data[f\"psi-{e3}\"]\n",
    "    region_boundaries = filters.roberts(np.flipud(psi))\n",
    "    region_boundaries[region_boundaries > 0.1] = (e3 - min(epsilon3)) / (\n",
    "        max(epsilon3) - min(epsilon3)\n",
    "    ) + 0.15\n",
    "    region_boundaries[region_boundaries < 0.1] = 0\n",
    "    image += region_boundaries"
   ]
  },
  {
   "cell_type": "code",
   "execution_count": null,
   "metadata": {},
   "outputs": [],
   "source": [
    "plt.imshow(\n",
    "    image,\n",
    "    cmap=\"Blues\",\n",
    "    vmin=0,\n",
    "    vmax=1,\n",
    "    extent=(min(beta2), max(beta2), min(beta3), max(beta3)),\n",
    "    aspect=\"auto\",\n",
    ")\n",
    "plt.text(0.01, 5.6, \"0.95\", rotation=-30)\n",
    "plt.text(0.13, 5.45, \"0.9625\", rotation=-35.5)\n",
    "plt.text(0.285, 5.5, \"0.975\", rotation=-41)\n",
    "plt.text(0.49, 5.35, \"0.9875\", rotation=-53)\n",
    "plt.text(0.995, 5.7, r\"$1.0$\", rotation=-90)\n",
    "plt.xlabel(r\"$\\widetilde{\\beta}_2$\", fontsize=14)\n",
    "plt.ylabel(r\"$\\widetilde{\\beta}_3$\", fontsize=14)\n",
    "plt.savefig(\"Figures/Fig4/polarization_boundaries_epsilon3.png\", dpi=1000)\n",
    "plt.savefig(\"Figures/Fig4/polarization_boundaries_epsilon3.pdf\", dpi=1000)\n",
    "plt.show()"
   ]
  },
  {
   "cell_type": "code",
   "execution_count": null,
   "metadata": {},
   "outputs": [],
   "source": []
  }
 ],
 "metadata": {
  "kernelspec": {
   "display_name": "Python 3.10.6 ('hyper')",
   "language": "python",
   "name": "python3"
  },
  "language_info": {
   "codemirror_mode": {
    "name": "ipython",
    "version": 3
   },
   "file_extension": ".py",
   "mimetype": "text/x-python",
   "name": "python",
   "nbconvert_exporter": "python",
   "pygments_lexer": "ipython3",
   "version": "3.10.6 | packaged by conda-forge | (main, Aug 22 2022, 20:38:29) [Clang 13.0.1 ]"
  },
  "orig_nbformat": 4,
  "vscode": {
   "interpreter": {
    "hash": "d499419bfd3ffc3e3fdefe0b9d84e10a93ca5c11fd9f2ad00edb8d726bc70f5f"
   }
  }
 },
 "nbformat": 4,
 "nbformat_minor": 2
}
