{
 "cells": [
  {
   "cell_type": "code",
   "execution_count": null,
   "metadata": {},
   "outputs": [],
   "source": [
    "import json\n",
    "import numpy as np\n",
    "import matplotlib.pyplot as plt\n",
    "from skimage import filters\n",
    "import matplotlib.cm as cm"
   ]
  },
  {
   "cell_type": "code",
   "execution_count": null,
   "metadata": {},
   "outputs": [],
   "source": [
    "with open(\"Data/polarization/mean-field_polarization_boundaries_epsilon2.json\") as file:\n",
    "    data = json.load(file)\n",
    "\n",
    "epsilon2 = np.array(data[\"epsilon2\"], dtype=float)\n",
    "epsilon3 = np.array(data[\"epsilon3\"], dtype=float)\n",
    "beta2 = np.array(data[\"beta2\"], dtype=float)\n",
    "beta3 = np.array(data[\"beta3\"], dtype=float)\n",
    "\n",
    "delta = 0.3\n",
    "\n",
    "image_epsilon2 = np.zeros((len(beta3), len(beta2)))\n",
    "for e2 in epsilon2:\n",
    "    psi = data[f\"psi-{e2}\"]\n",
    "\n",
    "    # edge detection\n",
    "    region_boundaries = filters.roberts(np.flipud(psi))\n",
    "\n",
    "    # filtering\n",
    "    region_boundaries[region_boundaries < 0.1] = 0\n",
    "    region_boundaries[region_boundaries > 0.1] = (e2 - min(epsilon2)) / (\n",
    "        max(epsilon2) - min(epsilon2)\n",
    "    ) + delta\n",
    "\n",
    "    image_epsilon2 += region_boundaries\n",
    "mask_epsilon2 = np.array(np.ma.masked_array(image_epsilon2 > 0.0, image_epsilon2).mask, dtype=float)"
   ]
  },
  {
   "cell_type": "code",
   "execution_count": null,
   "metadata": {},
   "outputs": [],
   "source": [
    "plt.figure(figsize=(8, 6))\n",
    "cmap = cm.Blues\n",
    "plt.imshow(\n",
    "    image_epsilon2,\n",
    "    vmin=0,\n",
    "    vmax=1+delta,\n",
    "    cmap=cmap,\n",
    "    extent=(min(beta2), max(beta2), min(beta3), max(beta3)),\n",
    "    aspect=\"auto\",\n",
    "    alpha=mask_epsilon2\n",
    ")\n",
    "plt.text(0.105, 5.6, \"0.0\", rotation=-78, fontsize=11)\n",
    "plt.text(0.1345, 5.48, \"0.25\", rotation=-75, fontsize=11)\n",
    "plt.text(0.1775, 5.6, \"0.5\", rotation=-75, fontsize=11)\n",
    "plt.text(0.28, 5.48, \"0.75\", rotation=-73, fontsize=11)\n",
    "plt.text(0.98, 5.6, \"1.0\", rotation=-90, fontsize=11)\n",
    "plt.xlabel(r\"$\\widetilde{\\beta}_2$\", fontsize=14)\n",
    "plt.ylabel(r\"$\\widetilde{\\beta}_3$\", fontsize=14)\n",
    "plt.tight_layout()\n",
    "plt.savefig(\"Figures/Fig4/polarization_boundaries_epsilon2.png\", dpi=1000)\n",
    "plt.savefig(\"Figures/Fig4/polarization_boundaries_epsilon2.pdf\", dpi=1000)\n",
    "plt.show()"
   ]
  },
  {
   "cell_type": "code",
   "execution_count": null,
   "metadata": {},
   "outputs": [],
   "source": [
    "with open(\"Data/polarization/mean-field_polarization_boundaries_epsilon3.json\") as file:\n",
    "    data = json.load(file)\n",
    "\n",
    "epsilon2 = np.array(data[\"epsilon2\"], dtype=float)\n",
    "epsilon3 = np.array(data[\"epsilon3\"], dtype=float)\n",
    "beta2 = np.array(data[\"beta2\"], dtype=float)\n",
    "beta3 = np.array(data[\"beta3\"], dtype=float)\n",
    "\n",
    "delta = 0.3\n",
    "\n",
    "image_epsilon3 = np.zeros((len(beta3), len(beta2)))\n",
    "for e3 in epsilon3:\n",
    "    psi = data[f\"psi-{e3}\"]\n",
    "    region_boundaries = filters.roberts(np.flipud(psi))\n",
    "    region_boundaries[region_boundaries < 0.1] = 0\n",
    "    region_boundaries[region_boundaries > 0.1] = (e3 - min(epsilon3)) / (\n",
    "        max(epsilon3) - min(epsilon3)\n",
    "    ) + delta\n",
    "    image_epsilon3 += region_boundaries\n",
    "mask_epsilon3 = np.array(np.ma.masked_array(image_epsilon3 > 0.0, image_epsilon3).mask, dtype=float)"
   ]
  },
  {
   "cell_type": "code",
   "execution_count": null,
   "metadata": {},
   "outputs": [],
   "source": [
    "plt.figure(figsize=(8, 6))\n",
    "cmap = cm.Blues\n",
    "plt.imshow(\n",
    "    image_epsilon3,\n",
    "    cmap=cmap,\n",
    "    vmin=0,\n",
    "    vmax=1+delta,\n",
    "    extent=(min(beta2), max(beta2), min(beta3), max(beta3)),\n",
    "    aspect=\"auto\",\n",
    "    alpha=mask_epsilon3\n",
    ")\n",
    "plt.text(0.02, 5.6, \"0.95\", rotation=-30, fontsize=11)\n",
    "plt.text(0.15, 5.45, \"0.9625\", rotation=-35.5, fontsize=11)\n",
    "plt.text(0.3, 5.5, \"0.975\", rotation=-42, fontsize=11)\n",
    "plt.text(0.505, 5.35, \"0.9875\", rotation=-52, fontsize=11)\n",
    "plt.text(0.995, 5.7, r\"$1.0$\", rotation=-90, fontsize=11)\n",
    "plt.xlabel(r\"$\\widetilde{\\beta}_2$\", fontsize=14)\n",
    "plt.ylabel(r\"$\\widetilde{\\beta}_3$\", fontsize=14)\n",
    "plt.tight_layout()\n",
    "plt.savefig(\"Figures/Fig4/polarization_boundaries_epsilon3.png\", dpi=1000)\n",
    "plt.savefig(\"Figures/Fig4/polarization_boundaries_epsilon3.pdf\", dpi=1000)\n",
    "plt.show()"
   ]
  }
 ],
 "metadata": {
  "kernelspec": {
   "display_name": "hyper",
   "language": "python",
   "name": "hyper"
  },
  "language_info": {
   "codemirror_mode": {
    "name": "ipython",
    "version": 3
   },
   "file_extension": ".py",
   "mimetype": "text/x-python",
   "name": "python",
   "nbconvert_exporter": "python",
   "pygments_lexer": "ipython3",
   "version": "3.10.6"
  },
  "orig_nbformat": 4,
  "vscode": {
   "interpreter": {
    "hash": "d499419bfd3ffc3e3fdefe0b9d84e10a93ca5c11fd9f2ad00edb8d726bc70f5f"
   }
  }
 },
 "nbformat": 4,
 "nbformat_minor": 2
}
