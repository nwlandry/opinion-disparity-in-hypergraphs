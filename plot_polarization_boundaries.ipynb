{
 "cells": [
  {
   "cell_type": "code",
   "execution_count": null,
   "metadata": {},
   "outputs": [],
   "source": [
    "import json\n",
    "import numpy as np\n",
    "import matplotlib.pyplot as plt\n",
    "from skimage import filters"
   ]
  },
  {
   "cell_type": "code",
   "execution_count": null,
   "metadata": {},
   "outputs": [],
   "source": [
    "with open(\"Data/stability/mean-field_polarization_boundaries_epsilon2.json\") as file:\n",
    "    data = json.load(file)\n",
    "\n",
    "epsilon2 = np.array(data[\"epsilon2\"], dtype=float)\n",
    "epsilon3 = np.array(data[\"epsilon3\"], dtype=float)\n",
    "beta2 = np.array(data[\"beta2\"], dtype=float)\n",
    "beta3 = np.array(data[\"beta3\"], dtype=float)\n",
    "\n",
    "image = np.zeros((len(beta3), len(beta2)))\n",
    "for e2 in epsilon2:\n",
    "    psi = data[f\"psi-{e2}\"]\n",
    "    region_boundaries = filters.roberts(np.flipud(psi))\n",
    "    region_boundaries[region_boundaries > 0.1] = 0.4\n",
    "    region_boundaries[region_boundaries < 0.1] = 0\n",
    "    image += region_boundaries"
   ]
  },
  {
   "cell_type": "code",
   "execution_count": null,
   "metadata": {},
   "outputs": [],
   "source": [
    "plt.imshow(image, cmap=\"Blues\", vmin=0, vmax=1, extent=(min(beta2), max(beta2), min(beta3), max(beta3)), aspect=\"auto\")"
   ]
  },
  {
   "cell_type": "code",
   "execution_count": null,
   "metadata": {},
   "outputs": [],
   "source": [
    "with open(\"Data/stability/mean-field_polarization_boundaries_epsilon3.json\") as file:\n",
    "    data = json.load(file)\n",
    "\n",
    "epsilon2 = np.array(data[\"epsilon2\"], dtype=float)\n",
    "epsilon3 = np.array(data[\"epsilon3\"], dtype=float)\n",
    "beta2 = np.array(data[\"beta2\"], dtype=float)\n",
    "beta3 = np.array(data[\"beta3\"], dtype=float)\n",
    "\n",
    "image = np.zeros((len(beta3), len(beta2)))\n",
    "for e3 in epsilon3:\n",
    "    psi = data[f\"psi-{e3}\"]\n",
    "    region_boundaries = filters.roberts(np.flipud(psi))\n",
    "    region_boundaries[region_boundaries > 0.1] = 0.4\n",
    "    region_boundaries[region_boundaries < 0.1] = 0\n",
    "    image += region_boundaries"
   ]
  },
  {
   "cell_type": "code",
   "execution_count": null,
   "metadata": {},
   "outputs": [],
   "source": [
    "plt.imshow(image, cmap=\"Blues\", vmin=0, vmax=1, extent=(min(beta2), max(beta2), min(beta3), max(beta3)), aspect=\"auto\")"
   ]
  },
  {
   "cell_type": "code",
   "execution_count": null,
   "metadata": {},
   "outputs": [],
   "source": []
  }
 ],
 "metadata": {
  "kernelspec": {
   "display_name": "Python 3.10.6 ('hyper')",
   "language": "python",
   "name": "python3"
  },
  "language_info": {
   "codemirror_mode": {
    "name": "ipython",
    "version": 3
   },
   "file_extension": ".py",
   "mimetype": "text/x-python",
   "name": "python",
   "nbconvert_exporter": "python",
   "pygments_lexer": "ipython3",
   "version": "3.10.6"
  },
  "orig_nbformat": 4,
  "vscode": {
   "interpreter": {
    "hash": "d499419bfd3ffc3e3fdefe0b9d84e10a93ca5c11fd9f2ad00edb8d726bc70f5f"
   }
  }
 },
 "nbformat": 4,
 "nbformat_minor": 2
}
