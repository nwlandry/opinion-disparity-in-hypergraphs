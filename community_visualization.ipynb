{
 "cells": [
  {
   "cell_type": "code",
   "execution_count": null,
   "metadata": {},
   "outputs": [],
   "source": [
    "import GenerativeModels\n",
    "import matplotlib.pyplot as plt\n",
    "import numpy as np\n",
    "import xgi\n",
    "import json"
   ]
  },
  {
   "cell_type": "code",
   "execution_count": null,
   "metadata": {},
   "outputs": [],
   "source": [
    "try:\n",
    "    H = xgi.read_hypergraph_json(\"Data/vis/vis.json\")\n",
    "except:\n",
    "    n = 100\n",
    "    m = 3\n",
    "    k = 2\n",
    "    epsilon = 1.95\n",
    "\n",
    "    edgelist = GenerativeModels.uniform_planted_partition_hypergraph(n, m, k, epsilon)\n",
    "\n",
    "    cleaned_edgelist = list()\n",
    "    for edge in edgelist:\n",
    "        if len(edge) == len(set(edge)):\n",
    "            cleaned_edgelist.append(edge)\n",
    "\n",
    "    H = xgi.Hypergraph(cleaned_edgelist)\n",
    "    xgi.write_hypergraph_json(H, \"Data/vis/vis.json\")"
   ]
  },
  {
   "cell_type": "code",
   "execution_count": null,
   "metadata": {},
   "outputs": [],
   "source": [
    "try:\n",
    "    with open(\"Data/vis/pos.json\", \"r\") as file:\n",
    "        pos_stored = json.loads(file.read())\n",
    "    pos = {i: np.array(p) for i, p in pos_stored.items()}\n",
    "except:\n",
    "    pos = xgi.pairwise_spring_layout(H)\n",
    "    pos_store = {i: p.tolist() for i, p in pos.items()}\n",
    "    datastring = json.dumps(pos_store)\n",
    "\n",
    "    with open(\"Data/vis/pos.json\", \"w\") as output_file:\n",
    "        output_file.write(datastring)\n",
    "    "
   ]
  },
  {
   "cell_type": "code",
   "execution_count": null,
   "metadata": {},
   "outputs": [],
   "source": [
    "plt.figure(figsize=(10,10))\n",
    "xgi.draw(H, pos, node_size=15)\n",
    "plt.tight_layout()\n",
    "plt.savefig(\"Figures/community_structure_visualization.png\", dpi=1000)\n",
    "plt.savefig(\"Figures/community_structure_visualization.pdf\", dpi=1000)\n",
    "plt.show()"
   ]
  }
 ],
 "metadata": {
  "kernelspec": {
   "display_name": "Python 3 (ipykernel)",
   "language": "python",
   "name": "python3"
  },
  "language_info": {
   "codemirror_mode": {
    "name": "ipython",
    "version": 3
   },
   "file_extension": ".py",
   "mimetype": "text/x-python",
   "name": "python",
   "nbconvert_exporter": "python",
   "pygments_lexer": "ipython3",
   "version": "3.10.5"
  },
  "vscode": {
   "interpreter": {
    "hash": "88880b30d22c3e82d444bc5a40c679bbf2837a658927a3eed0b1fab0c002b813"
   }
  }
 },
 "nbformat": 4,
 "nbformat_minor": 2
}
