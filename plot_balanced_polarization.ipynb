{
 "cells": [
  {
   "cell_type": "code",
   "execution_count": null,
   "metadata": {},
   "outputs": [],
   "source": [
    "import json\n",
    "import numpy as np\n",
    "import matplotlib.pyplot as plt"
   ]
  },
  {
   "cell_type": "code",
   "execution_count": null,
   "metadata": {},
   "outputs": [],
   "source": [
    "with open(\"Data/polarization/mean-field_epsilon2_epsilon3_polarization.json\") as file:\n",
    "    data1 = json.load(file)\n",
    "with open(\"Data/polarization/empirical_epsilon2_epsilon3_polarization.json\") as file:\n",
    "    data2 = json.load(file)\n",
    "with open(\"Data/polarization/mean-field_beta2_beta3_polarization.json\") as file:\n",
    "    data3 = json.load(file)\n",
    "with open(\"Data/polarization/empirical_beta2_beta3_polarization.json\") as file:\n",
    "    data4 = json.load(file)\n",
    "\n",
    "epsilon2_mf = np.array(data1[\"epsilon2\"], dtype=float)\n",
    "epsilon3_mf = np.array(data1[\"epsilon3\"], dtype=float)\n",
    "psi_1 = np.array(data1[\"psi\"], dtype=float)\n",
    "\n",
    "epsilon2_sim = np.array(data2[\"epsilon2\"], dtype=float)\n",
    "epsilon3_sim = np.array(data2[\"epsilon3\"], dtype=float)\n",
    "psi_2 = np.array(data2[\"psi\"], dtype=float)\n",
    "\n",
    "beta2_mf = np.array(data3[\"beta2\"], dtype=float)\n",
    "beta3_mf = np.array(data3[\"beta3\"], dtype=float)\n",
    "psi_3 = np.array(data3[\"psi\"], dtype=float)\n",
    "\n",
    "beta2_sim = np.array(data4[\"beta2\"], dtype=float)\n",
    "beta3_sim = np.array(data4[\"beta3\"], dtype=float)\n",
    "psi_4 = np.array(data4[\"psi\"], dtype=float)"
   ]
  },
  {
   "cell_type": "code",
   "execution_count": null,
   "metadata": {},
   "outputs": [],
   "source": [
    "tick_label_fontsize = 12\n",
    "axis_label_fontsize = 14\n",
    "colorbar_fontsize = 16"
   ]
  },
  {
   "cell_type": "code",
   "execution_count": null,
   "metadata": {},
   "outputs": [],
   "source": [
    "fig, axes = plt.subplots(nrows=2, ncols=2, figsize=(7, 6))\n",
    "\n",
    "\n",
    "axes[0, 0].imshow(\n",
    "    np.flipud(psi_1),\n",
    "    extent=[min(epsilon2_mf), max(epsilon2_mf), min(epsilon3_mf), max(epsilon3_mf)],\n",
    "    vmin=0,\n",
    "    vmax=1,\n",
    "    aspect=\"auto\",\n",
    "    cmap=\"inferno\",\n",
    ")\n",
    "axes[0, 0].set_xlabel(r\"$\\epsilon_2$\", fontsize=axis_label_fontsize)\n",
    "axes[0, 0].set_ylabel(r\"$\\epsilon_3$\", fontsize=axis_label_fontsize)\n",
    "axes[0, 0].set_xticks([0, 0.5, 1], fontsize=tick_label_fontsize)\n",
    "axes[0, 0].set_yticks([0.5, 0.75, 1], fontsize=tick_label_fontsize)\n",
    "axes[0, 0].set_yticklabels([\"0.5\", \"0.75\", \"1\"])\n",
    "axes[0, 0].set_xticklabels([\"0\", \"0.5\", \"1\"])\n",
    "\n",
    "axes[0, 1].imshow(\n",
    "    np.flipud(psi_2.T),\n",
    "    extent=[min(epsilon2_sim), max(epsilon2_sim), min(epsilon3_sim), max(epsilon3_sim)],\n",
    "    vmin=0,\n",
    "    vmax=1,\n",
    "    aspect=\"auto\",\n",
    "    cmap=\"inferno\",\n",
    ")\n",
    "axes[0, 1].set_xlabel(r\"$\\epsilon_2$\", fontsize=axis_label_fontsize)\n",
    "axes[0, 1].set_ylabel(r\"$\\epsilon_3$\", fontsize=axis_label_fontsize)\n",
    "axes[0, 1].set_xticks([0, 0.5, 1], fontsize=tick_label_fontsize)\n",
    "axes[0, 1].set_yticks([0.5, 0.75, 1], fontsize=tick_label_fontsize)\n",
    "axes[0, 1].set_yticklabels([\"0.5\", \"0.75\", \"1\"])\n",
    "axes[0, 1].set_xticklabels([\"0\", \"0.5\", \"1\"])\n",
    "\n",
    "\n",
    "axes[1, 0].imshow(\n",
    "    np.flipud(psi_3),\n",
    "    extent=[min(beta2_mf), max(beta2_mf), min(beta3_mf), max(beta3_mf)],\n",
    "    vmin=0,\n",
    "    vmax=1,\n",
    "    aspect=\"auto\",\n",
    "    cmap=\"inferno\",\n",
    ")\n",
    "axes[1, 0].set_xlabel(r\"$\\widetilde{\\beta}_2$\", fontsize=axis_label_fontsize)\n",
    "axes[1, 0].set_ylabel(r\"$\\widetilde{\\beta}_3$\", fontsize=axis_label_fontsize)\n",
    "axes[1, 0].set_xticks([0, 0.25, 0.5], fontsize=tick_label_fontsize)\n",
    "axes[1, 0].set_yticks([3, 4, 5, 6], fontsize=tick_label_fontsize)\n",
    "axes[1, 0].set_xticklabels([\"0\", \"0.25\", \"0.5\"])\n",
    "\n",
    "im = axes[1, 1].imshow(\n",
    "    np.flipud(psi_4.T),\n",
    "    extent=[min(beta2_sim), max(beta2_sim), min(beta3_sim), max(beta3_sim)],\n",
    "    vmin=0,\n",
    "    vmax=1,\n",
    "    aspect=\"auto\",\n",
    "    cmap=\"inferno\",\n",
    ")\n",
    "axes[1, 1].set_xlabel(r\"$\\widetilde{\\beta}_2$\", fontsize=axis_label_fontsize)\n",
    "axes[1, 1].set_ylabel(r\"$\\widetilde{\\beta}_3$\", fontsize=axis_label_fontsize)\n",
    "axes[1, 1].set_xticks([0, 0.25, 0.5], fontsize=tick_label_fontsize)\n",
    "axes[1, 1].set_yticks([3, 4, 5, 6], fontsize=tick_label_fontsize)\n",
    "axes[1, 1].set_xticklabels([\"0\", \"0.25\", \"0.5\"])\n",
    "\n",
    "\n",
    "fig.subplots_adjust(bottom=0.15, top=0.95, left=0.1, right=0.85, wspace=0.4, hspace=0.4)\n",
    "cbar_ax = fig.add_axes([0.88, 0.15, 0.03, 0.8])\n",
    "cbar = fig.colorbar(im, cax=cbar_ax)\n",
    "cbar.set_label(r\"$\\psi$\", fontsize=colorbar_fontsize, rotation=270, labelpad=10)\n",
    "plt.savefig(\"Figures/Fig4/balanced_psi.pdf\", dpi=1000)\n",
    "plt.savefig(\"Figures/Fig4/balanced_psi.png\", dpi=1000)\n",
    "plt.show()"
   ]
  },
  {
   "cell_type": "code",
   "execution_count": null,
   "metadata": {},
   "outputs": [],
   "source": []
  }
 ],
 "metadata": {
  "kernelspec": {
   "display_name": "hyper",
   "language": "python",
   "name": "python3"
  },
  "language_info": {
   "codemirror_mode": {
    "name": "ipython",
    "version": 3
   },
   "file_extension": ".py",
   "mimetype": "text/x-python",
   "name": "python",
   "nbconvert_exporter": "python",
   "pygments_lexer": "ipython3",
   "version": "3.10.0"
  },
  "orig_nbformat": 4,
  "vscode": {
   "interpreter": {
    "hash": "006b130b0afef3e20a59d32b3e368dadb49787729b49e0c4fc1ec3e01c886557"
   }
  }
 },
 "nbformat": 4,
 "nbformat_minor": 2
}
