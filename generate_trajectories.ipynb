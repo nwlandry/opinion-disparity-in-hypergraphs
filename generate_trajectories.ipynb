{
 "cells": [
  {
   "cell_type": "code",
   "execution_count": null,
   "metadata": {},
   "outputs": [],
   "source": [
    "import json\n",
    "import matplotlib.pyplot as plt\n",
    "\n",
    "import numpy as np\n",
    "import xgi\n",
    "from src.GenerativeModels import uniform_planted_partition_hypergraph\n",
    "from src.HypergraphContagion import Gillespie_SIS_two_communities"
   ]
  },
  {
   "cell_type": "code",
   "execution_count": null,
   "metadata": {},
   "outputs": [],
   "source": [
    "rho = 0.506\n",
    "epsilon2 = 0.18\n",
    "epsilon3 = 0.95\n",
    "num_realizations = 5\n",
    "\n",
    "# parameters\n",
    "n = 10000\n",
    "k = 50\n",
    "q = 50\n",
    "\n",
    "# Epidemic parameters\n",
    "gamma = 1\n",
    "tmax = 300\n",
    "\n",
    "beta2tilde = 0.2\n",
    "beta3tilde = 4\n",
    "\n",
    "rho1 = 0\n",
    "rho2 = 1"
   ]
  },
  {
   "cell_type": "code",
   "execution_count": null,
   "metadata": {},
   "outputs": [],
   "source": [
    "links = uniform_planted_partition_hypergraph(n, 2, k, epsilon2, rho)\n",
    "triangles = uniform_planted_partition_hypergraph(n, 3, q, epsilon3, rho)\n",
    "H = xgi.Hypergraph(links + triangles)"
   ]
  },
  {
   "cell_type": "code",
   "execution_count": null,
   "metadata": {},
   "outputs": [],
   "source": [
    "community1 = {i for i in range(int(H.num_nodes * rho))}\n",
    "community2 = {i for i in range(int(H.num_nodes * rho), n)}\n",
    "\n",
    "beta2c = gamma / k\n",
    "beta3c = gamma / q\n",
    "\n",
    "beta2 = beta2tilde * beta2c\n",
    "beta3 = beta3tilde * beta3c\n",
    "\n",
    "beta = {2: beta2, 3: beta3}"
   ]
  },
  {
   "cell_type": "code",
   "execution_count": null,
   "metadata": {},
   "outputs": [],
   "source": [
    "sims = dict()\n",
    "for i in range(num_realizations):\n",
    "    t, S1, I1, S2, I2 = Gillespie_SIS_two_communities(\n",
    "        H,\n",
    "        beta,\n",
    "        gamma,\n",
    "        community1,\n",
    "        community2,\n",
    "        rho1=rho1,\n",
    "        rho2=rho2,\n",
    "        tmin=0,\n",
    "        tmax=300,\n",
    "    )\n",
    "\n",
    "    sims[i][\"x1\"] = list(I1/len(community1))\n",
    "    sims[i][\"x2\"] = list(I2/len(community2))\n",
    "    sims[i][\"t\"] = list(t)\n",
    "    print(i)"
   ]
  },
  {
   "cell_type": "code",
   "execution_count": null,
   "metadata": {},
   "outputs": [],
   "source": [
    "for i in range(num_realizations):\n",
    "    plt.plot(sims[i][\"x1\"], sims[i][\"x2\"], linewidth=0.25)\n",
    "plt.xlim([0, 1])\n",
    "plt.ylim([0, 1])"
   ]
  },
  {
   "cell_type": "code",
   "execution_count": null,
   "metadata": {},
   "outputs": [],
   "source": [
    "skip = 10\n",
    "data = dict()\n",
    "for i in range(num_realizations):\n",
    "    data[f\"{i}-x\"] = list(zip(sims[0][\"x1\"][::skip], sims[0][\"x2\"][::skip]))\n",
    "    data[f\"{i}-t\"] = sims[i][\"t\"][::skip]"
   ]
  },
  {
   "cell_type": "code",
   "execution_count": null,
   "metadata": {},
   "outputs": [],
   "source": [
    "datastring = json.dumps(data)\n",
    "\n",
    "with open(f\"Data/polarization/{rho}-{epsilon2}-{epsilon3}-trajectories.json\", \"w\") as output_file:\n",
    "    output_file.write(datastring)"
   ]
  }
 ],
 "metadata": {
  "kernelspec": {
   "display_name": "hyper",
   "language": "python",
   "name": "python3"
  },
  "language_info": {
   "codemirror_mode": {
    "name": "ipython",
    "version": 3
   },
   "file_extension": ".py",
   "mimetype": "text/x-python",
   "name": "python",
   "nbconvert_exporter": "python",
   "pygments_lexer": "ipython3",
   "version": "3.10.0"
  },
  "orig_nbformat": 4
 },
 "nbformat": 4,
 "nbformat_minor": 2
}
