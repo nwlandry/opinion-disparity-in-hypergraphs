{
 "cells": [
  {
   "cell_type": "code",
   "execution_count": null,
   "metadata": {},
   "outputs": [],
   "source": [
    "import numpy as np\n",
    "from scipy.integrate import solve_ivp\n",
    "import matplotlib.pyplot as plt"
   ]
  },
  {
   "cell_type": "code",
   "execution_count": null,
   "metadata": {},
   "outputs": [],
   "source": [
    "def f(x, epsilon2, epsilon3, beta2, beta3):\n",
    "    dxdt = np.zeros(2)\n",
    "    x1 = x[0]\n",
    "    x2 = x[1]\n",
    "\n",
    "    \n",
    "    dxdt[0] = -x1 + 0.5*beta2*(1 - x1)*((x1 + x2) + epsilon2*(x1 - x2)) + 0.25*beta3*(1 - x1)*((x1 + x2)**2 + epsilon3*(3 * x1**2 - 2*x1*x2 - x2**2))\n",
    "    dxdt[1] = -x2 + 0.5*beta2*(1 - x2)*((x2 + x1) + epsilon2*(x2 - x1)) + 0.25*beta3*(1 - x2)*((x2 + x1)**2 + epsilon3*(3 * x2**2 - 2*x2*x1 - x1**2))\n",
    "    return dxdt"
   ]
  },
  {
   "cell_type": "code",
   "execution_count": null,
   "metadata": {},
   "outputs": [],
   "source": [
    "epsilon2 = 0.5\n",
    "epsilon3 = 0.95\n",
    "beta2 = 0.1\n",
    "beta3 = 4\n",
    "x0 = [0, 1]\n",
    "tmax = 15\n",
    "\n",
    "sol = solve_ivp(lambda t, x: f(x, epsilon2, epsilon3, beta2, beta3), [0, tmax], x0)\n",
    "t = sol.t\n",
    "x1 = sol.y[0,:]\n",
    "x2 = sol.y[1,:]"
   ]
  },
  {
   "cell_type": "code",
   "execution_count": null,
   "metadata": {},
   "outputs": [],
   "source": [
    "plt.figure()\n",
    "plt.plot(t, x1, 'r-')\n",
    "plt.plot(t, x2,'b-')\n",
    "plt.xlabel(r\"$t$\", fontsize=14)\n",
    "plt.ylabel(r\"$x$\", fontsize=14)\n",
    "plt.show()"
   ]
  }
 ],
 "metadata": {
  "kernelspec": {
   "display_name": "Python 3.10.4 ('hyper')",
   "language": "python",
   "name": "python3"
  },
  "language_info": {
   "codemirror_mode": {
    "name": "ipython",
    "version": 3
   },
   "file_extension": ".py",
   "mimetype": "text/x-python",
   "name": "python",
   "nbconvert_exporter": "python",
   "pygments_lexer": "ipython3",
   "version": "3.10.4"
  },
  "orig_nbformat": 4,
  "vscode": {
   "interpreter": {
    "hash": "f26b1876c6a04c29872dd3ce209a466baa9f1e070d2c1693089dc9a73c6b3bca"
   }
  }
 },
 "nbformat": 4,
 "nbformat_minor": 2
}
