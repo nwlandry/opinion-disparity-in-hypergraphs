{
 "cells": [
  {
   "cell_type": "code",
   "execution_count": null,
   "metadata": {},
   "outputs": [],
   "source": [
    "import xgi\n",
    "import matplotlib.pyplot as plt\n",
    "import numpy as np\n",
    "from src import GenerativeModels\n",
    "\n",
    "from src.HypergraphContagion import *"
   ]
  },
  {
   "cell_type": "code",
   "execution_count": null,
   "metadata": {},
   "outputs": [],
   "source": [
    "n = 10000\n",
    "k = 20\n",
    "q = 20\n",
    "e2 = 0\n",
    "e3 = 0.95\n",
    "\n",
    "links = GenerativeModels.uniform_planted_partition_hypergraph(n, 2, k, e2)\n",
    "triangles = GenerativeModels.uniform_planted_partition_hypergraph(n, 3, q, e3)\n",
    "hyperedges = links + triangles\n",
    "H = xgi.Hypergraph(hyperedges)"
   ]
  },
  {
   "cell_type": "code",
   "execution_count": null,
   "metadata": {},
   "outputs": [],
   "source": [
    "gamma = 2\n",
    "initial_infecteds = np.random.rand(H.num_nodes)\n",
    "tmax = 100\n",
    "\n",
    "k = H.nodes.degree(order=1).mean()\n",
    "q = H.nodes.degree(order=2).mean()\n",
    "\n",
    "beta2Crit = gamma / k\n",
    "beta3Crit = gamma / q\n",
    "\n",
    "beta2 = 0.2 * beta2Crit\n",
    "beta3 = 4 * beta3Crit\n",
    "\n",
    "beta = {2: beta2, 3: beta3}\n",
    "\n",
    "community1 = set(range(int(H.num_nodes / 2)))\n",
    "community2 = set(range(int(H.num_nodes / 2), H.num_nodes))"
   ]
  },
  {
   "cell_type": "code",
   "execution_count": null,
   "metadata": {},
   "outputs": [],
   "source": [
    "t, S1, I1, S2, I2 = Gillespie_SIS_two_communities(\n",
    "    H, beta, gamma, community1, community2, tmax=tmax\n",
    ")"
   ]
  },
  {
   "cell_type": "code",
   "execution_count": null,
   "metadata": {},
   "outputs": [],
   "source": [
    "plt.figure()\n",
    "plt.plot(t, I1)\n",
    "plt.plot(t, I2)\n",
    "plt.show()"
   ]
  }
 ],
 "metadata": {
  "kernelspec": {
   "display_name": "hyper",
   "language": "python",
   "name": "python3"
  },
  "language_info": {
   "codemirror_mode": {
    "name": "ipython",
    "version": 3
   },
   "file_extension": ".py",
   "mimetype": "text/x-python",
   "name": "python",
   "nbconvert_exporter": "python",
   "pygments_lexer": "ipython3",
   "version": "3.10.0"
  },
  "orig_nbformat": 4,
  "vscode": {
   "interpreter": {
    "hash": "006b130b0afef3e20a59d32b3e368dadb49787729b49e0c4fc1ec3e01c886557"
   }
  }
 },
 "nbformat": 4,
 "nbformat_minor": 2
}
