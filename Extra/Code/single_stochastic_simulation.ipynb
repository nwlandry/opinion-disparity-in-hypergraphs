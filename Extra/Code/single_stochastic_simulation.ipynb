{
 "cells": [
  {
   "cell_type": "code",
   "execution_count": null,
   "metadata": {},
   "outputs": [],
   "source": [
    "import xgi\n",
    "import matplotlib.pyplot as plt\n",
    "import networkx as nx\n",
    "import numpy as np\n",
    "from scipy.sparse.linalg import eigsh\n",
    "import GenerativeModels\n",
    "\n",
    "from HypergraphContagion import *"
   ]
  },
  {
   "cell_type": "code",
   "execution_count": null,
   "metadata": {},
   "outputs": [],
   "source": [
    "n = 1000\n",
    "k = 20\n",
    "q = 20\n",
    "e2 = 10\n",
    "e3 = 19\n",
    "\n",
    "links = GenerativeModels.uniform_planted_partition_hypergraph(n, 2, k, e2)\n",
    "triangles = GenerativeModels.uniform_planted_partition_hypergraph(n, 3, q, e3)\n",
    "hyperedges = links + triangles\n",
    "H = xgi.Hypergraph(hyperedges)"
   ]
  },
  {
   "cell_type": "code",
   "execution_count": null,
   "metadata": {},
   "outputs": [],
   "source": [
    "gamma = 2\n",
    "initial_infecteds = np.random.rand(H.num_nodes)\n",
    "tmax = 10\n",
    "\n",
    "k = H.nodes.degree(order=1).mean()\n",
    "q = H.nodes.degree(order=2).mean()\n",
    "\n",
    "beta2Crit = gamma / k\n",
    "beta3Crit = gamma / q\n",
    "\n",
    "beta2 = 0.105 * beta2Crit\n",
    "beta3 = 4 * beta3Crit\n",
    "\n",
    "beta = {2: beta2, 3: beta3}\n",
    "\n",
    "community1 = set(range(int(H.num_nodes / 2)))\n",
    "community2 = set(range(int(H.num_nodes / 2), H.num_nodes))"
   ]
  },
  {
   "cell_type": "code",
   "execution_count": null,
   "metadata": {},
   "outputs": [],
   "source": [
    "t, S1, I1, S2, I2 = Gillespie_SIS_two_communities(\n",
    "    H, beta, gamma, community1, community2, tmax=tmax\n",
    ")"
   ]
  },
  {
   "cell_type": "code",
   "execution_count": null,
   "metadata": {},
   "outputs": [],
   "source": [
    "plt.figure()\n",
    "plt.plot(t, I1)\n",
    "plt.plot(t, I2)\n",
    "plt.show()"
   ]
  },
  {
   "cell_type": "code",
   "execution_count": null,
   "metadata": {},
   "outputs": [],
   "source": []
  }
 ],
 "metadata": {
  "kernelspec": {
   "display_name": "Python 3.10.5 64-bit",
   "language": "python",
   "name": "python3"
  },
  "language_info": {
   "codemirror_mode": {
    "name": "ipython",
    "version": 3
   },
   "file_extension": ".py",
   "mimetype": "text/x-python",
   "name": "python",
   "nbconvert_exporter": "python",
   "pygments_lexer": "ipython3",
   "version": "3.10.5"
  },
  "orig_nbformat": 4,
  "vscode": {
   "interpreter": {
    "hash": "88880b30d22c3e82d444bc5a40c679bbf2837a658927a3eed0b1fab0c002b813"
   }
  }
 },
 "nbformat": 4,
 "nbformat_minor": 2
}
